{
 "cells": [
  {
   "cell_type": "markdown",
   "metadata": {},
   "source": [
    "# Welcome to Gleeo time analysis notebook\n",
    "\n",
    "To get started, copy the file **\"Time Tracker data export.csv\"** next to this notebook and run the cells."
   ]
  },
  {
   "cell_type": "code",
   "execution_count": null,
   "metadata": {},
   "outputs": [],
   "source": [
    "%autosave 0\n",
    "%matplotlib inline\n",
    "import pandas as pd\n",
    "import numpy as np\n",
    "# Set ipython's max row display\n",
    "pd.set_option('display.max_row', 10)\n",
    "\n",
    "# Set iPython's max column width\n",
    "pd.set_option('display.max_columns', 10)\n",
    "\n",
    "# Matplotlib defaults\n",
    "from pylab import rcParams\n",
    "rcParams['figure.figsize'] = (15,7)\n",
    "rcParams['font.size'] = 15"
   ]
  },
  {
   "cell_type": "code",
   "execution_count": null,
   "metadata": {},
   "outputs": [],
   "source": [
    "time_entries = pd.read_csv(\"Time Tracker data export.csv\")\n",
    "time_entries['Start'] = pd.to_datetime(time_entries['Start'])\n",
    "time_entries['End'] = pd.to_datetime(time_entries['End'])"
   ]
  },
  {
   "cell_type": "code",
   "execution_count": null,
   "metadata": {},
   "outputs": [],
   "source": [
    "print(\"columns: {}\".format(time_entries.columns))\n",
    "time_entries"
   ]
  },
  {
   "cell_type": "markdown",
   "metadata": {},
   "source": [
    "# Total time spent on projects\n",
    "\n",
    "All times are displayed in **hours**."
   ]
  },
  {
   "cell_type": "code",
   "execution_count": null,
   "metadata": {},
   "outputs": [],
   "source": [
    "project_total = time_entries.groupby('Project').sum()\n",
    "project_total[\"Decimal Duration\"]"
   ]
  },
  {
   "cell_type": "code",
   "execution_count": null,
   "metadata": {},
   "outputs": [],
   "source": [
    "ax = project_total.plot.pie(y='Decimal Duration', autopct='%.1f')\n",
    "ax.set_title('Total time spent on projects')\n",
    "ax.set_ylabel('')\n",
    "ax.legend(bbox_to_anchor=(1.05, 1), loc=2, borderaxespad=0.)"
   ]
  },
  {
   "cell_type": "markdown",
   "metadata": {},
   "source": [
    "# Time spent on projects every month"
   ]
  },
  {
   "cell_type": "code",
   "execution_count": null,
   "metadata": {},
   "outputs": [],
   "source": [
    "projects = time_entries['Project'].unique()\n",
    "tasks = time_entries['Task'].unique()\n",
    "start = time_entries.iloc[0]['Start'].round('D')\n",
    "end = time_entries.iloc[-1]['End'].round('D')\n",
    "years = range(start.year, end.year+1)\n",
    "print(\"Tracking period from {} to {}\".format(start, end))"
   ]
  },
  {
   "cell_type": "code",
   "execution_count": null,
   "metadata": {},
   "outputs": [],
   "source": [
    "def get_time_spent_per(time_unit):\n",
    "    plt_time_index = pd.date_range(start, end, freq = time_unit)\n",
    "    range_df = pd.DataFrame(plt_time_index, index=plt_time_index, columns=['Date'])\n",
    "    range_df['End'] = range_df['Date'].shift(-1)\n",
    "    range_df = range_df.iloc[:-1] # drop last range\n",
    "\n",
    "    series = [ time_entries.loc[(time_entries['Start'] > row['Date']) & (time_entries['End'] < row['End'])]\\\n",
    "        .groupby('Project')['Decimal Duration'].sum()\n",
    "     for _, row in range_df.iterrows() ]\n",
    "    organized_durations = pd.DataFrame(series, index=range_df['Date']).fillna(0)\n",
    "    return organized_durations"
   ]
  },
  {
   "cell_type": "code",
   "execution_count": null,
   "metadata": {},
   "outputs": [],
   "source": [
    "df_month = get_time_spent_per(\"BM\")\n",
    "ax = df_month.plot.area(title=\"Time spent on projects every month\")\n",
    "average_hours_per_month = df_month.mean().sum()\n",
    "print(\"Average hours/month: {}\".format(average_hours_per_month))\n",
    "ax.axhline(average_hours_per_month, linestyle=\"--\", linewidth=3)"
   ]
  },
  {
   "cell_type": "markdown",
   "metadata": {},
   "source": [
    "# Time spent on projects every week\n"
   ]
  },
  {
   "cell_type": "code",
   "execution_count": null,
   "metadata": {},
   "outputs": [],
   "source": [
    "df_week = get_time_spent_per(\"W\")\n",
    "ax = df_week.plot.area(title=\"Time spent on projects every week\")\n",
    "average_hours_per_week = df_week.mean().sum()\n",
    "print(\"Average hours/week: {}\".format(average_hours_per_week))\n",
    "ax.axhline(average_hours_per_week, linestyle=\"--\", linewidth=3)"
   ]
  },
  {
   "cell_type": "markdown",
   "metadata": {},
   "source": [
    "# Overhours"
   ]
  },
  {
   "cell_type": "markdown",
   "metadata": {},
   "source": [
    "To calculate the amount of overhours, append your vacations in the file `personal/holidays.yaml`.\n",
    "Provide your state vacations to the holidays library."
   ]
  },
  {
   "cell_type": "code",
   "execution_count": null,
   "metadata": {},
   "outputs": [],
   "source": [
    "import holidays\n",
    "import yaml\n",
    "\n",
    "state_vacation = holidays.Germany(prov='BW', years=years)\n",
    "state_vacation_dates = list(state_vacation.keys())\n",
    "\n",
    "vacation_dates = [] + state_vacation_dates\n",
    "personal_vacations = yaml.load(open('personal/holidays.yaml', 'r'))\n",
    "vacation_count = 0\n",
    "for vacation in personal_vacations:\n",
    "    date_range = pd.bdate_range(start=vacation['from'], end=vacation['to'], freq='C',\n",
    "                                name=vacation['name'], holidays=state_vacation_dates)\n",
    "    print('{} used up {} vacation days'.format(vacation['name'], len(date_range)))\n",
    "    vacation_count += len(date_range)\n",
    "    vacation_dates += date_range.tolist()\n",
    "print('Total number of holiday days taken: {}'.format(vacation_count))"
   ]
  },
  {
   "cell_type": "code",
   "execution_count": null,
   "metadata": {},
   "outputs": [],
   "source": [
    "business_dates = pd.bdate_range(start, end, freq='C', holidays=vacation_dates)\n",
    "business_df = pd.DataFrame(39.5 / 5., columns=['Expected hours'], index=business_dates)\n",
    "\n",
    "worked_days = get_time_spent_per('D').drop('break', axis=1)\n",
    "worked_df = pd.DataFrame(worked_days.sum(axis=1), columns=['Worked hours'])\n",
    "\n",
    "overhours_df = pd.merge(business_df, worked_df, how='right', left_index=True, right_index=True).fillna(0)\n",
    "overhours_df['Overhours'] = overhours_df['Worked hours'] - overhours_df['Expected hours']\n",
    "overhours_df['Accumulated Overhours'] = overhours_df['Overhours'].cumsum()\n",
    "overhours_df.plot(title=\"Accumulated Overhours\", y=['Accumulated Overhours'])\n"
   ]
  },
  {
   "cell_type": "code",
   "execution_count": null,
   "metadata": {},
   "outputs": [],
   "source": []
  }
 ],
 "metadata": {
  "kernelspec": {
   "display_name": "Python 3",
   "language": "python",
   "name": "python3"
  },
  "language_info": {
   "codemirror_mode": {
    "name": "ipython",
    "version": 3
   },
   "file_extension": ".py",
   "mimetype": "text/x-python",
   "name": "python",
   "nbconvert_exporter": "python",
   "pygments_lexer": "ipython3",
   "version": "3.7.6"
  }
 },
 "nbformat": 4,
 "nbformat_minor": 2
}
