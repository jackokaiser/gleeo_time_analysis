{
 "cells": [
  {
   "cell_type": "code",
   "execution_count": null,
   "metadata": {},
   "outputs": [],
   "source": [
    "import pandas as pd\n",
    "import numpy as np\n",
    "# Set ipython's max row display\n",
    "pd.set_option('display.max_row', 10)\n",
    "\n",
    "# Set iPython's max column width to 50\n",
    "pd.set_option('display.max_columns', 10)"
   ]
  },
  {
   "cell_type": "code",
   "execution_count": null,
   "metadata": {},
   "outputs": [],
   "source": [
    "time_entries = pd.read_csv(\"Time Tracker data export.csv\")"
   ]
  },
  {
   "cell_type": "code",
   "execution_count": null,
   "metadata": {},
   "outputs": [],
   "source": [
    "time_entries"
   ]
  },
  {
   "cell_type": "code",
   "execution_count": null,
   "metadata": {},
   "outputs": [],
   "source": [
    "project_total = time_entries.groupby('Project').sum()\n",
    "project_total"
   ]
  },
  {
   "cell_type": "code",
   "execution_count": null,
   "metadata": {},
   "outputs": [],
   "source": [
    "ax = project_total.plot.pie('Decimal Duration')\n",
    "ax.set_title('Total time spent on projects')\n",
    "ax.set_ylabel('')\n",
    "ax.legend(bbox_to_anchor=(1.05, 1), loc=2, borderaxespad=0.)"
   ]
  },
  {
   "cell_type": "code",
   "execution_count": null,
   "metadata": {},
   "outputs": [],
   "source": [
    "projects = time_entries['Project'].unique()"
   ]
  },
  {
   "cell_type": "code",
   "execution_count": null,
   "metadata": {},
   "outputs": [],
   "source": [
    "time_entries['Start'] = pd.to_datetime(time_entries['Start'])\n",
    "time_entries['End'] = pd.to_datetime(time_entries['End'])\n",
    "time_entries = time_entries.set_index(pd.DatetimeIndex(time_entries['Start']))\n",
    "start = time_entries.iloc[0, time_entries.columns.get_loc('Start')]\n",
    "end = time_entries.iloc[-1, time_entries.columns.get_loc('Start')]"
   ]
  },
  {
   "cell_type": "code",
   "execution_count": null,
   "metadata": {},
   "outputs": [],
   "source": [
    "plt_time_index = pd.date_range(start, end, freq = \"M\")\n",
    "plt_df = pd.DataFrame(0, index=plt_time_index, columns=projects)\n",
    "\n",
    "for p in projects:\n",
    "    plt_df[p] = 0\n",
    "    \n",
    "# Loop through index i, i+1 of plt_df, use them to slice time_entries, sum and populate\n",
    "last_idx = plt_df.index[0]\n",
    "for idx, plt_row in plt_df.iloc[1:].iterrows():\n",
    "    matching_entries = time_entries[last_idx:idx]\n",
    "    matching_entries = matching_entries.groupby('Project').sum()\n",
    "    for i, p in enumerate(matching_entries.index):\n",
    "        time_spent = matching_entries.iloc[i, matching_entries.columns.get_loc('Decimal Duration')]\n",
    "        plt_df.loc[idx, p] += time_spent\n",
    "    last_idx = idx"
   ]
  },
  {
   "cell_type": "code",
   "execution_count": null,
   "metadata": {},
   "outputs": [],
   "source": [
    "plt_df"
   ]
  },
  {
   "cell_type": "code",
   "execution_count": null,
   "metadata": {},
   "outputs": [],
   "source": [
    "plt_df.plot()"
   ]
  },
  {
   "cell_type": "code",
   "execution_count": null,
   "metadata": {},
   "outputs": [],
   "source": []
  }
 ],
 "metadata": {
  "kernelspec": {
   "display_name": "Python 2",
   "language": "python",
   "name": "python2"
  },
  "language_info": {
   "codemirror_mode": {
    "name": "ipython",
    "version": 2
   },
   "file_extension": ".py",
   "mimetype": "text/x-python",
   "name": "python",
   "nbconvert_exporter": "python",
   "pygments_lexer": "ipython2",
   "version": "2.7.12"
  }
 },
 "nbformat": 4,
 "nbformat_minor": 2
}
